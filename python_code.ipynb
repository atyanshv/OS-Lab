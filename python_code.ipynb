{
  "nbformat": 4,
  "nbformat_minor": 0,
  "metadata": {
    "colab": {
      "provenance": [],
      "authorship_tag": "ABX9TyN0RHLCOgo/LaSn6EzOiMCr",
      "include_colab_link": true
    },
    "kernelspec": {
      "name": "python3",
      "display_name": "Python 3"
    },
    "language_info": {
      "name": "python"
    }
  },
  "cells": [
    {
      "cell_type": "markdown",
      "metadata": {
        "id": "view-in-github",
        "colab_type": "text"
      },
      "source": [
        "<a href=\"https://colab.research.google.com/github/atyanshv/OS-Lab/blob/main/python_code.ipynb\" target=\"_parent\"><img src=\"https://colab.research.google.com/assets/colab-badge.svg\" alt=\"Open In Colab\"/></a>"
      ]
    },
    {
      "cell_type": "markdown",
      "source": [
        "First pyton program"
      ],
      "metadata": {
        "id": "x2IBdl12s1Qx"
      }
    },
    {
      "cell_type": "code",
      "source": [
        "thislist = [\"apple\", \"banana\", \"cherry\"]\n",
        "print(thislist)"
      ],
      "metadata": {
        "colab": {
          "base_uri": "https://localhost:8080/"
        },
        "id": "JwEaW3lfsug3",
        "outputId": "e5a0f4b4-a541-4e67-f717-9eb7831ab54b"
      },
      "execution_count": 1,
      "outputs": [
        {
          "output_type": "stream",
          "name": "stdout",
          "text": [
            "['apple', 'banana', 'cherry']\n"
          ]
        }
      ]
    },
    {
      "cell_type": "markdown",
      "source": [
        "program for printing the square of natural number from 1 to 10"
      ],
      "metadata": {
        "id": "8kp_VFRPuwDx"
      }
    },
    {
      "cell_type": "code",
      "source": [
        "for i in range(1, 11):\n",
        "    print(i*i)"
      ],
      "metadata": {
        "colab": {
          "base_uri": "https://localhost:8080/"
        },
        "id": "krBF6f_CuYKx",
        "outputId": "d5cdc5ae-e241-4c7c-a84c-7ed3e3ef62fd"
      },
      "execution_count": 3,
      "outputs": [
        {
          "output_type": "stream",
          "name": "stdout",
          "text": [
            "1\n",
            "4\n",
            "9\n",
            "16\n",
            "25\n",
            "36\n",
            "49\n",
            "64\n",
            "81\n",
            "100\n"
          ]
        }
      ]
    },
    {
      "cell_type": "markdown",
      "source": [
        "count the number of spaces in a string"
      ],
      "metadata": {
        "id": "9Nko3Ztdw5cy"
      }
    },
    {
      "cell_type": "code",
      "source": [
        "my_string = \"My name is gustavo but you can call me gus\"\n",
        "num_spaces = my_string.count(' ')\n",
        "print(\"Number of spaces in the string:\", num_spaces)\n"
      ],
      "metadata": {
        "colab": {
          "base_uri": "https://localhost:8080/"
        },
        "id": "F8yZsakVx-Sz",
        "outputId": "20b9695b-e520-4c98-aa88-e27d64e401df"
      },
      "execution_count": 4,
      "outputs": [
        {
          "output_type": "stream",
          "name": "stdout",
          "text": [
            "Number of spaces in the string: 9\n"
          ]
        }
      ]
    },
    {
      "cell_type": "markdown",
      "source": [
        "counting the number of 6 in range of 1 to 1000"
      ],
      "metadata": {
        "id": "NOzzQClDyxTR"
      }
    },
    {
      "cell_type": "code",
      "source": [
        "count = 0\n",
        "for i in range(1, 1001):\n",
        "    count += str(i).count('6')\n",
        "print(count)\n"
      ],
      "metadata": {
        "colab": {
          "base_uri": "https://localhost:8080/"
        },
        "id": "tem6yVoOy5Fp",
        "outputId": "dac7d9ba-7f6b-46a9-c908-feacf8ab8adb"
      },
      "execution_count": 5,
      "outputs": [
        {
          "output_type": "stream",
          "name": "stdout",
          "text": [
            "300\n"
          ]
        }
      ]
    },
    {
      "cell_type": "markdown",
      "source": [
        "find the number that are divisible by 2 and 5"
      ],
      "metadata": {
        "id": "MWTl9yCEzmXz"
      }
    },
    {
      "cell_type": "code",
      "source": [
        "start =start = 1\n",
        "end = 100\n",
        "\n",
        "for i in range(start, end+1):\n",
        "    if i % 2 == 0 and i % 5 == 0:\n",
        "        print(i)\n",
        " 1\n",
        "end = 1000\n",
        "\n",
        "for i in range(start, end+1):\n",
        "    if i % 2 == 0 and i % 5 == 0:\n",
        "        print(i)\n"
      ],
      "metadata": {
        "colab": {
          "base_uri": "https://localhost:8080/"
        },
        "id": "5e93m6tmzqhj",
        "outputId": "f56ba24d-e214-4b3f-b5d6-2c6d1e0b8959"
      },
      "execution_count": 6,
      "outputs": [
        {
          "output_type": "stream",
          "name": "stdout",
          "text": [
            "10\n",
            "20\n",
            "30\n",
            "40\n",
            "50\n",
            "60\n",
            "70\n",
            "80\n",
            "90\n",
            "100\n",
            "110\n",
            "120\n",
            "130\n",
            "140\n",
            "150\n",
            "160\n",
            "170\n",
            "180\n",
            "190\n",
            "200\n",
            "210\n",
            "220\n",
            "230\n",
            "240\n",
            "250\n",
            "260\n",
            "270\n",
            "280\n",
            "290\n",
            "300\n",
            "310\n",
            "320\n",
            "330\n",
            "340\n",
            "350\n",
            "360\n",
            "370\n",
            "380\n",
            "390\n",
            "400\n",
            "410\n",
            "420\n",
            "430\n",
            "440\n",
            "450\n",
            "460\n",
            "470\n",
            "480\n",
            "490\n",
            "500\n",
            "510\n",
            "520\n",
            "530\n",
            "540\n",
            "550\n",
            "560\n",
            "570\n",
            "580\n",
            "590\n",
            "600\n",
            "610\n",
            "620\n",
            "630\n",
            "640\n",
            "650\n",
            "660\n",
            "670\n",
            "680\n",
            "690\n",
            "700\n",
            "710\n",
            "720\n",
            "730\n",
            "740\n",
            "750\n",
            "760\n",
            "770\n",
            "780\n",
            "790\n",
            "800\n",
            "810\n",
            "820\n",
            "830\n",
            "840\n",
            "850\n",
            "860\n",
            "870\n",
            "880\n",
            "890\n",
            "900\n",
            "910\n",
            "920\n",
            "930\n",
            "940\n",
            "950\n",
            "960\n",
            "970\n",
            "980\n",
            "990\n",
            "1000\n"
          ]
        }
      ]
    },
    {
      "cell_type": "markdown",
      "source": [
        "print the table of 5"
      ],
      "metadata": {
        "id": "Y68NyX8mz5Wr"
      }
    },
    {
      "cell_type": "code",
      "source": [
        "for i in range(1, 50):\n",
        "    print(\"5 x\", i, \"=\", 5*i)\n"
      ],
      "metadata": {
        "colab": {
          "base_uri": "https://localhost:8080/"
        },
        "id": "TUvJUcjr0JBa",
        "outputId": "26693d17-dfcd-4672-badd-b1dd4ab362b5"
      },
      "execution_count": 7,
      "outputs": [
        {
          "output_type": "stream",
          "name": "stdout",
          "text": [
            "5 x 1 = 5\n",
            "5 x 2 = 10\n",
            "5 x 3 = 15\n",
            "5 x 4 = 20\n",
            "5 x 5 = 25\n",
            "5 x 6 = 30\n",
            "5 x 7 = 35\n",
            "5 x 8 = 40\n",
            "5 x 9 = 45\n",
            "5 x 10 = 50\n",
            "5 x 11 = 55\n",
            "5 x 12 = 60\n",
            "5 x 13 = 65\n",
            "5 x 14 = 70\n",
            "5 x 15 = 75\n",
            "5 x 16 = 80\n",
            "5 x 17 = 85\n",
            "5 x 18 = 90\n",
            "5 x 19 = 95\n",
            "5 x 20 = 100\n",
            "5 x 21 = 105\n",
            "5 x 22 = 110\n",
            "5 x 23 = 115\n",
            "5 x 24 = 120\n",
            "5 x 25 = 125\n",
            "5 x 26 = 130\n",
            "5 x 27 = 135\n",
            "5 x 28 = 140\n",
            "5 x 29 = 145\n",
            "5 x 30 = 150\n",
            "5 x 31 = 155\n",
            "5 x 32 = 160\n",
            "5 x 33 = 165\n",
            "5 x 34 = 170\n",
            "5 x 35 = 175\n",
            "5 x 36 = 180\n",
            "5 x 37 = 185\n",
            "5 x 38 = 190\n",
            "5 x 39 = 195\n",
            "5 x 40 = 200\n",
            "5 x 41 = 205\n",
            "5 x 42 = 210\n",
            "5 x 43 = 215\n",
            "5 x 44 = 220\n",
            "5 x 45 = 225\n",
            "5 x 46 = 230\n",
            "5 x 47 = 235\n",
            "5 x 48 = 240\n",
            "5 x 49 = 245\n"
          ]
        }
      ]
    }
  ]
}